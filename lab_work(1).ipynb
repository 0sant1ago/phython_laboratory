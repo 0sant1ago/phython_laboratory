{
  "cells": [
    {
      "cell_type": "markdown",
      "metadata": {
        "id": "view-in-github",
        "colab_type": "text"
      },
      "source": [
        "<a href=\"https://colab.research.google.com/github/0sant1ago/phython_laboratory/blob/dev/lab_work(1).ipynb\" target=\"_parent\"><img src=\"https://colab.research.google.com/assets/colab-badge.svg\" alt=\"Open In Colab\"/></a>"
      ]
    },
    {
      "cell_type": "markdown",
      "metadata": {
        "lang": "en",
        "id": "79SvQyDGizjk"
      },
      "source": [
        "# Data analytics with `pandas` and `matplotlib`"
      ]
    },
    {
      "cell_type": "markdown",
      "metadata": {
        "lang": "en",
        "id": "yehNj0zIizjo"
      },
      "source": [
        "In this task, you are asked to analyze cryptocurrency data using the pandas and matplotlib libraries.\n",
        "The task looks like a laboratory work in which you have to fill in the missing cells and answer a series of questions.\n",
        " - [Official pandas documentation](https://pandas.pydata.org/)\n",
        " - [Official matplotlib documentation](https://matplotlib.org/index.html)"
      ]
    },
    {
      "cell_type": "markdown",
      "metadata": {
        "lang": "en",
        "id": "U6WlHjFlizjp"
      },
      "source": [
        "> **Reminder**\n",
        ">\n",
        ">Minimum points for crediting this work - **1 point**. If you do not score here 1 point, then you get a failure throughout the course (see slides from the introductory presentation)."
      ]
    },
    {
      "cell_type": "markdown",
      "metadata": {
        "lang": "en",
        "id": "MpE5iaT8izjq"
      },
      "source": [
        "## 1. Data (2 points)"
      ]
    },
    {
      "cell_type": "markdown",
      "metadata": {
        "lang": "en",
        "id": "FjNzQRtKizjq"
      },
      "source": [
        "Downloading data for work:"
      ]
    },
    {
      "cell_type": "code",
      "execution_count": 25,
      "metadata": {
        "id": "bzRxn9yrMq79",
        "outputId": "70bf230a-2601-4896-ef46-59d537fbd2a7",
        "colab": {
          "base_uri": "https://localhost:8080/"
        }
      },
      "outputs": [
        {
          "output_type": "stream",
          "name": "stderr",
          "text": [
            "Downloading...\n",
            "From: https://drive.google.com/uc?id=1e-Q_15W7ExExQarKqgjrtoO-LHi9oJs3\n",
            "To: /content/coins.csv\n",
            "\r  0%|          | 0.00/3.98M [00:00<?, ?B/s]\r100%|██████████| 3.98M/3.98M [00:00<00:00, 252MB/s]\n"
          ]
        }
      ],
      "source": [
        "%%bash\n",
        "gdown 1e-Q_15W7ExExQarKqgjrtoO-LHi9oJs3"
      ]
    },
    {
      "cell_type": "markdown",
      "metadata": {
        "lang": "en",
        "id": "QjPcGC6Hizjs"
      },
      "source": [
        "Let's start with the necessary preparations."
      ]
    },
    {
      "cell_type": "code",
      "execution_count": 26,
      "metadata": {
        "id": "-G3lHlpmL07T"
      },
      "outputs": [],
      "source": [
        "import numpy as np\n",
        "import pandas as pd\n",
        "import matplotlib as mpl  \n",
        "import matplotlib.pyplot as plt\n",
        "#from matplotlib.finance import candlestick_ohlc\n",
        "import matplotlib.dates as mpdates\n",
        "#from mplfinance import candlestick_ohlc\n",
        "import ipywidgets  # Библиотека для интерактивных контролов в jupyter notebook'е\n",
        "\n",
        "%matplotlib inline"
      ]
    },
    {
      "cell_type": "markdown",
      "metadata": {
        "lang": "en",
        "id": "T230N60Fizjt"
      },
      "source": [
        "#### Load a pre-prepared dataset from *\"coins.csv\"* file. Create an object of type `pandas.DataFrame` named `coins` and select the date column as the index."
      ]
    },
    {
      "cell_type": "code",
      "execution_count": 27,
      "metadata": {
        "id": "3a-dnCG0L07Z"
      },
      "outputs": [],
      "source": [
        "# Paste your code here.\n",
        "coins = pd.read_csv(\"coins.csv\")"
      ]
    },
    {
      "cell_type": "markdown",
      "metadata": {
        "lang": "en",
        "id": "N7fnK_tuizjt"
      },
      "source": [
        "Let's see what happened"
      ]
    },
    {
      "cell_type": "code",
      "execution_count": 28,
      "metadata": {
        "id": "l4uGAbw2L07e",
        "outputId": "5ce9a11e-99a3-4a07-d875-0e31713cb419",
        "colab": {
          "base_uri": "https://localhost:8080/",
          "height": 661
        }
      },
      "outputs": [
        {
          "output_type": "execute_result",
          "data": {
            "text/plain": [
              "             date       price  txCount      txVolume  activeAddresses symbol  \\\n",
              "0      2013-04-28  135.300000  41702.0  6.879868e+07         117984.0    BTC   \n",
              "1      2013-04-28    4.300000   9174.0  4.431952e+07          17216.0    LTC   \n",
              "2      2013-04-29  134.440000  51602.0  1.138128e+08          86925.0    BTC   \n",
              "3      2013-04-29    4.370000   9275.0  3.647810e+07          18395.0    LTC   \n",
              "4      2013-04-30  144.000000  47450.0  8.426632e+07          76871.0    BTC   \n",
              "...           ...         ...      ...           ...              ...    ...   \n",
              "37583  2018-06-06    0.293325   4830.0  2.312763e+05            659.0    XLM   \n",
              "37584  2018-06-06    0.039586   7205.0  4.947760e+06          18228.0    XVG   \n",
              "37585  2018-06-06  239.760000  10687.0  3.986308e+07          96516.0    ZEC   \n",
              "37586  2018-06-06    0.127555   1313.0  1.596436e+07            733.0    ZIL   \n",
              "37587  2018-06-06    1.270000    795.0  6.094435e+06            599.0    ZRX   \n",
              "\n",
              "           name        open        high         low       close      volume  \\\n",
              "0       Bitcoin  135.300000  135.980000  132.100000  134.210000         0.0   \n",
              "1      Litecoin    4.300000    4.400000    4.180000    4.350000         0.0   \n",
              "2       Bitcoin  134.440000  147.490000  134.000000  144.540000         0.0   \n",
              "3      Litecoin    4.370000    4.570000    4.230000    4.380000         0.0   \n",
              "4       Bitcoin  144.000000  146.930000  134.050000  139.000000         0.0   \n",
              "...         ...         ...         ...         ...         ...         ...   \n",
              "37583   Stellar    0.293325    0.299955    0.289500    0.298269  51165000.0   \n",
              "37584     Verge    0.039586    0.039737    0.037680    0.038797   9307450.0   \n",
              "37585     Zcash  239.750000  240.340000  229.210000  236.050000  56887000.0   \n",
              "37586   Zilliqa    0.127555    0.133254    0.124194    0.131766  54667900.0   \n",
              "37587        0x    1.270000    1.340000    1.250000    1.330000  17778000.0   \n",
              "\n",
              "             market  \n",
              "0      1.500520e+09  \n",
              "1      7.377340e+07  \n",
              "2      1.491160e+09  \n",
              "3      7.495270e+07  \n",
              "4      1.597780e+09  \n",
              "...             ...  \n",
              "37583  5.450080e+09  \n",
              "37584  5.959400e+08  \n",
              "37585  9.769940e+08  \n",
              "37586  9.348810e+08  \n",
              "37587  6.741510e+08  \n",
              "\n",
              "[37588 rows x 13 columns]"
            ],
            "text/html": [
              "\n",
              "  <div id=\"df-bdec0a46-3b50-47e6-ab2c-dff5a0682f4b\">\n",
              "    <div class=\"colab-df-container\">\n",
              "      <div>\n",
              "<style scoped>\n",
              "    .dataframe tbody tr th:only-of-type {\n",
              "        vertical-align: middle;\n",
              "    }\n",
              "\n",
              "    .dataframe tbody tr th {\n",
              "        vertical-align: top;\n",
              "    }\n",
              "\n",
              "    .dataframe thead th {\n",
              "        text-align: right;\n",
              "    }\n",
              "</style>\n",
              "<table border=\"1\" class=\"dataframe\">\n",
              "  <thead>\n",
              "    <tr style=\"text-align: right;\">\n",
              "      <th></th>\n",
              "      <th>date</th>\n",
              "      <th>price</th>\n",
              "      <th>txCount</th>\n",
              "      <th>txVolume</th>\n",
              "      <th>activeAddresses</th>\n",
              "      <th>symbol</th>\n",
              "      <th>name</th>\n",
              "      <th>open</th>\n",
              "      <th>high</th>\n",
              "      <th>low</th>\n",
              "      <th>close</th>\n",
              "      <th>volume</th>\n",
              "      <th>market</th>\n",
              "    </tr>\n",
              "  </thead>\n",
              "  <tbody>\n",
              "    <tr>\n",
              "      <th>0</th>\n",
              "      <td>2013-04-28</td>\n",
              "      <td>135.300000</td>\n",
              "      <td>41702.0</td>\n",
              "      <td>6.879868e+07</td>\n",
              "      <td>117984.0</td>\n",
              "      <td>BTC</td>\n",
              "      <td>Bitcoin</td>\n",
              "      <td>135.300000</td>\n",
              "      <td>135.980000</td>\n",
              "      <td>132.100000</td>\n",
              "      <td>134.210000</td>\n",
              "      <td>0.0</td>\n",
              "      <td>1.500520e+09</td>\n",
              "    </tr>\n",
              "    <tr>\n",
              "      <th>1</th>\n",
              "      <td>2013-04-28</td>\n",
              "      <td>4.300000</td>\n",
              "      <td>9174.0</td>\n",
              "      <td>4.431952e+07</td>\n",
              "      <td>17216.0</td>\n",
              "      <td>LTC</td>\n",
              "      <td>Litecoin</td>\n",
              "      <td>4.300000</td>\n",
              "      <td>4.400000</td>\n",
              "      <td>4.180000</td>\n",
              "      <td>4.350000</td>\n",
              "      <td>0.0</td>\n",
              "      <td>7.377340e+07</td>\n",
              "    </tr>\n",
              "    <tr>\n",
              "      <th>2</th>\n",
              "      <td>2013-04-29</td>\n",
              "      <td>134.440000</td>\n",
              "      <td>51602.0</td>\n",
              "      <td>1.138128e+08</td>\n",
              "      <td>86925.0</td>\n",
              "      <td>BTC</td>\n",
              "      <td>Bitcoin</td>\n",
              "      <td>134.440000</td>\n",
              "      <td>147.490000</td>\n",
              "      <td>134.000000</td>\n",
              "      <td>144.540000</td>\n",
              "      <td>0.0</td>\n",
              "      <td>1.491160e+09</td>\n",
              "    </tr>\n",
              "    <tr>\n",
              "      <th>3</th>\n",
              "      <td>2013-04-29</td>\n",
              "      <td>4.370000</td>\n",
              "      <td>9275.0</td>\n",
              "      <td>3.647810e+07</td>\n",
              "      <td>18395.0</td>\n",
              "      <td>LTC</td>\n",
              "      <td>Litecoin</td>\n",
              "      <td>4.370000</td>\n",
              "      <td>4.570000</td>\n",
              "      <td>4.230000</td>\n",
              "      <td>4.380000</td>\n",
              "      <td>0.0</td>\n",
              "      <td>7.495270e+07</td>\n",
              "    </tr>\n",
              "    <tr>\n",
              "      <th>4</th>\n",
              "      <td>2013-04-30</td>\n",
              "      <td>144.000000</td>\n",
              "      <td>47450.0</td>\n",
              "      <td>8.426632e+07</td>\n",
              "      <td>76871.0</td>\n",
              "      <td>BTC</td>\n",
              "      <td>Bitcoin</td>\n",
              "      <td>144.000000</td>\n",
              "      <td>146.930000</td>\n",
              "      <td>134.050000</td>\n",
              "      <td>139.000000</td>\n",
              "      <td>0.0</td>\n",
              "      <td>1.597780e+09</td>\n",
              "    </tr>\n",
              "    <tr>\n",
              "      <th>...</th>\n",
              "      <td>...</td>\n",
              "      <td>...</td>\n",
              "      <td>...</td>\n",
              "      <td>...</td>\n",
              "      <td>...</td>\n",
              "      <td>...</td>\n",
              "      <td>...</td>\n",
              "      <td>...</td>\n",
              "      <td>...</td>\n",
              "      <td>...</td>\n",
              "      <td>...</td>\n",
              "      <td>...</td>\n",
              "      <td>...</td>\n",
              "    </tr>\n",
              "    <tr>\n",
              "      <th>37583</th>\n",
              "      <td>2018-06-06</td>\n",
              "      <td>0.293325</td>\n",
              "      <td>4830.0</td>\n",
              "      <td>2.312763e+05</td>\n",
              "      <td>659.0</td>\n",
              "      <td>XLM</td>\n",
              "      <td>Stellar</td>\n",
              "      <td>0.293325</td>\n",
              "      <td>0.299955</td>\n",
              "      <td>0.289500</td>\n",
              "      <td>0.298269</td>\n",
              "      <td>51165000.0</td>\n",
              "      <td>5.450080e+09</td>\n",
              "    </tr>\n",
              "    <tr>\n",
              "      <th>37584</th>\n",
              "      <td>2018-06-06</td>\n",
              "      <td>0.039586</td>\n",
              "      <td>7205.0</td>\n",
              "      <td>4.947760e+06</td>\n",
              "      <td>18228.0</td>\n",
              "      <td>XVG</td>\n",
              "      <td>Verge</td>\n",
              "      <td>0.039586</td>\n",
              "      <td>0.039737</td>\n",
              "      <td>0.037680</td>\n",
              "      <td>0.038797</td>\n",
              "      <td>9307450.0</td>\n",
              "      <td>5.959400e+08</td>\n",
              "    </tr>\n",
              "    <tr>\n",
              "      <th>37585</th>\n",
              "      <td>2018-06-06</td>\n",
              "      <td>239.760000</td>\n",
              "      <td>10687.0</td>\n",
              "      <td>3.986308e+07</td>\n",
              "      <td>96516.0</td>\n",
              "      <td>ZEC</td>\n",
              "      <td>Zcash</td>\n",
              "      <td>239.750000</td>\n",
              "      <td>240.340000</td>\n",
              "      <td>229.210000</td>\n",
              "      <td>236.050000</td>\n",
              "      <td>56887000.0</td>\n",
              "      <td>9.769940e+08</td>\n",
              "    </tr>\n",
              "    <tr>\n",
              "      <th>37586</th>\n",
              "      <td>2018-06-06</td>\n",
              "      <td>0.127555</td>\n",
              "      <td>1313.0</td>\n",
              "      <td>1.596436e+07</td>\n",
              "      <td>733.0</td>\n",
              "      <td>ZIL</td>\n",
              "      <td>Zilliqa</td>\n",
              "      <td>0.127555</td>\n",
              "      <td>0.133254</td>\n",
              "      <td>0.124194</td>\n",
              "      <td>0.131766</td>\n",
              "      <td>54667900.0</td>\n",
              "      <td>9.348810e+08</td>\n",
              "    </tr>\n",
              "    <tr>\n",
              "      <th>37587</th>\n",
              "      <td>2018-06-06</td>\n",
              "      <td>1.270000</td>\n",
              "      <td>795.0</td>\n",
              "      <td>6.094435e+06</td>\n",
              "      <td>599.0</td>\n",
              "      <td>ZRX</td>\n",
              "      <td>0x</td>\n",
              "      <td>1.270000</td>\n",
              "      <td>1.340000</td>\n",
              "      <td>1.250000</td>\n",
              "      <td>1.330000</td>\n",
              "      <td>17778000.0</td>\n",
              "      <td>6.741510e+08</td>\n",
              "    </tr>\n",
              "  </tbody>\n",
              "</table>\n",
              "<p>37588 rows × 13 columns</p>\n",
              "</div>\n",
              "      <button class=\"colab-df-convert\" onclick=\"convertToInteractive('df-bdec0a46-3b50-47e6-ab2c-dff5a0682f4b')\"\n",
              "              title=\"Convert this dataframe to an interactive table.\"\n",
              "              style=\"display:none;\">\n",
              "        \n",
              "  <svg xmlns=\"http://www.w3.org/2000/svg\" height=\"24px\"viewBox=\"0 0 24 24\"\n",
              "       width=\"24px\">\n",
              "    <path d=\"M0 0h24v24H0V0z\" fill=\"none\"/>\n",
              "    <path d=\"M18.56 5.44l.94 2.06.94-2.06 2.06-.94-2.06-.94-.94-2.06-.94 2.06-2.06.94zm-11 1L8.5 8.5l.94-2.06 2.06-.94-2.06-.94L8.5 2.5l-.94 2.06-2.06.94zm10 10l.94 2.06.94-2.06 2.06-.94-2.06-.94-.94-2.06-.94 2.06-2.06.94z\"/><path d=\"M17.41 7.96l-1.37-1.37c-.4-.4-.92-.59-1.43-.59-.52 0-1.04.2-1.43.59L10.3 9.45l-7.72 7.72c-.78.78-.78 2.05 0 2.83L4 21.41c.39.39.9.59 1.41.59.51 0 1.02-.2 1.41-.59l7.78-7.78 2.81-2.81c.8-.78.8-2.07 0-2.86zM5.41 20L4 18.59l7.72-7.72 1.47 1.35L5.41 20z\"/>\n",
              "  </svg>\n",
              "      </button>\n",
              "      \n",
              "  <style>\n",
              "    .colab-df-container {\n",
              "      display:flex;\n",
              "      flex-wrap:wrap;\n",
              "      gap: 12px;\n",
              "    }\n",
              "\n",
              "    .colab-df-convert {\n",
              "      background-color: #E8F0FE;\n",
              "      border: none;\n",
              "      border-radius: 50%;\n",
              "      cursor: pointer;\n",
              "      display: none;\n",
              "      fill: #1967D2;\n",
              "      height: 32px;\n",
              "      padding: 0 0 0 0;\n",
              "      width: 32px;\n",
              "    }\n",
              "\n",
              "    .colab-df-convert:hover {\n",
              "      background-color: #E2EBFA;\n",
              "      box-shadow: 0px 1px 2px rgba(60, 64, 67, 0.3), 0px 1px 3px 1px rgba(60, 64, 67, 0.15);\n",
              "      fill: #174EA6;\n",
              "    }\n",
              "\n",
              "    [theme=dark] .colab-df-convert {\n",
              "      background-color: #3B4455;\n",
              "      fill: #D2E3FC;\n",
              "    }\n",
              "\n",
              "    [theme=dark] .colab-df-convert:hover {\n",
              "      background-color: #434B5C;\n",
              "      box-shadow: 0px 1px 3px 1px rgba(0, 0, 0, 0.15);\n",
              "      filter: drop-shadow(0px 1px 2px rgba(0, 0, 0, 0.3));\n",
              "      fill: #FFFFFF;\n",
              "    }\n",
              "  </style>\n",
              "\n",
              "      <script>\n",
              "        const buttonEl =\n",
              "          document.querySelector('#df-bdec0a46-3b50-47e6-ab2c-dff5a0682f4b button.colab-df-convert');\n",
              "        buttonEl.style.display =\n",
              "          google.colab.kernel.accessAllowed ? 'block' : 'none';\n",
              "\n",
              "        async function convertToInteractive(key) {\n",
              "          const element = document.querySelector('#df-bdec0a46-3b50-47e6-ab2c-dff5a0682f4b');\n",
              "          const dataTable =\n",
              "            await google.colab.kernel.invokeFunction('convertToInteractive',\n",
              "                                                     [key], {});\n",
              "          if (!dataTable) return;\n",
              "\n",
              "          const docLinkHtml = 'Like what you see? Visit the ' +\n",
              "            '<a target=\"_blank\" href=https://colab.research.google.com/notebooks/data_table.ipynb>data table notebook</a>'\n",
              "            + ' to learn more about interactive tables.';\n",
              "          element.innerHTML = '';\n",
              "          dataTable['output_type'] = 'display_data';\n",
              "          await google.colab.output.renderOutput(dataTable, element);\n",
              "          const docLink = document.createElement('div');\n",
              "          docLink.innerHTML = docLinkHtml;\n",
              "          element.appendChild(docLink);\n",
              "        }\n",
              "      </script>\n",
              "    </div>\n",
              "  </div>\n",
              "  "
            ]
          },
          "metadata": {},
          "execution_count": 28
        }
      ],
      "source": [
        "coins.head(37589)"
      ]
    },
    {
      "cell_type": "markdown",
      "metadata": {
        "lang": "en",
        "id": "kr7obDsKizju"
      },
      "source": [
        "Let's explain the values ​​stored in the columns\n",
        " - date - measurement date\n",
        " - name - full name of the coin\n",
        " - symbol - abbreviated name of the coin\n",
        " - price - average coin price per trading day in USD\n",
        " - txCount - the number of transactions in the network of this coin\n",
        " - txVolume - the volume of coins transferred between addresses in the network of this coin\n",
        " - activeAddresses - the number of addresses that made transactions on this day in the network of this coin\n",
        " - open - the price of the coin at the beginning of trading on the given day\n",
        " - close - the price of the coin at the end of the trading day\n",
        " - high - the highest price of this coin during the current trading day\n",
        " - low - the lowest price of the given coin during the given trading day\n",
        " - volume - trading volume of this coin on exchanges on a given day\n",
        " - market - capitalization of this coin on a given day"
      ]
    },
    {
      "cell_type": "markdown",
      "metadata": {
        "lang": "en",
        "id": "jgz52mOhizjv"
      },
      "source": [
        "Let's examine the data. Answer the following questions (insert cells with code and text below):"
      ]
    },
    {
      "cell_type": "markdown",
      "metadata": {
        "lang": "en",
        "id": "E7zy-Kczizjv"
      },
      "source": [
        "### 1. How many different coins are there in the dataset? (0.4 points)"
      ]
    },
    {
      "cell_type": "code",
      "execution_count": 29,
      "metadata": {
        "id": "oN2d3V71L07m",
        "outputId": "79f1fd14-0df0-4682-c7fa-8ec2ffc71789",
        "colab": {
          "base_uri": "https://localhost:8080/"
        }
      },
      "outputs": [
        {
          "output_type": "stream",
          "name": "stdout",
          "text": [
            "70\n"
          ]
        }
      ],
      "source": [
        "print(len(set(coins['name'])))"
      ]
    },
    {
      "cell_type": "markdown",
      "metadata": {
        "lang": "en",
        "id": "XtFcHmjiizjv"
      },
      "source": [
        "### 2. For what period do we have data? (0.4 points)"
      ]
    },
    {
      "cell_type": "code",
      "execution_count": 30,
      "metadata": {
        "id": "7Ucmnjv1L07p",
        "outputId": "47c6744e-2d74-438b-e243-38caf79a92c7",
        "colab": {
          "base_uri": "https://localhost:8080/"
        }
      },
      "outputs": [
        {
          "output_type": "stream",
          "name": "stdout",
          "text": [
            "We have data from: 2013-04-28  until: 2018-06-06\n"
          ]
        }
      ],
      "source": [
        "print('We have data from: ' + coins['date'][1] + '  until: ' + coins['date'][37587])"
      ]
    },
    {
      "cell_type": "markdown",
      "metadata": {
        "lang": "en",
        "id": "_2qBmQcJizjw"
      },
      "source": [
        "### 3. Are there gaps in the data? What is the nature of these omissions, what are they most likely caused by? (0.5 points)"
      ]
    },
    {
      "cell_type": "code",
      "execution_count": 31,
      "metadata": {
        "id": "D-nOmmFjL07r",
        "outputId": "ef530ed4-4698-420b-fe3f-45c898d80279",
        "colab": {
          "base_uri": "https://localhost:8080/"
        }
      },
      "outputs": [
        {
          "output_type": "execute_result",
          "data": {
            "text/plain": [
              "True"
            ]
          },
          "metadata": {},
          "execution_count": 31
        }
      ],
      "source": [
        "coins.isnull().values.any()"
      ]
    },
    {
      "cell_type": "markdown",
      "metadata": {
        "lang": "en",
        "id": "wttTKx7pizjw"
      },
      "source": [
        "### 4. Which coin had the highest price and when? (0.2 points)"
      ]
    },
    {
      "cell_type": "code",
      "execution_count": 32,
      "metadata": {
        "id": "-D50115vL07t",
        "outputId": "0ac882fd-ff29-42f2-e2b3-3864ea1bfa63",
        "colab": {
          "base_uri": "https://localhost:8080/"
        }
      },
      "outputs": [
        {
          "output_type": "execute_result",
          "data": {
            "text/plain": [
              "('2017-12-17', 'Bitcoin')"
            ]
          },
          "metadata": {},
          "execution_count": 32
        }
      ],
      "source": [
        "coins['date'][coins['price'].idxmax(axis = 0)], coins['name'][coins['price'].idxmax(axis = 0)]"
      ]
    },
    {
      "cell_type": "markdown",
      "metadata": {
        "lang": "en",
        "id": "9Qb9pb4Lizjx"
      },
      "source": [
        "### 5. Which coin has the highest and lowest total capitalization? Build a pie chart with proportions. (0.5 points)"
      ]
    },
    {
      "cell_type": "code",
      "execution_count": 33,
      "metadata": {
        "id": "VeoJsuP6L07v",
        "outputId": "67f6e967-e262-4a30-961d-f58f39c3aa23",
        "colab": {
          "base_uri": "https://localhost:8080/",
          "height": 338
        }
      },
      "outputs": [
        {
          "output_type": "stream",
          "name": "stdout",
          "text": [
            "Highest total capitalization: Bitcoin\n",
            "Lowest total capitalization: Ethereum\n"
          ]
        },
        {
          "output_type": "display_data",
          "data": {
            "text/plain": [
              "<Figure size 360x360 with 1 Axes>"
            ],
            "image/png": "[encoded data removed]"
          },
          "metadata": {}
        }
      ],
      "source": [
        "print('Highest total capitalization: ' + coins['name'][coins['market'].idxmax(axis = 0)]) \n",
        "print('Lowest total capitalization: ' + coins['name'][coins['market'].idxmin(axis = 0)])\n",
        "highest_cap = coins['market'][coins['market'].idxmax(axis = 0)]\n",
        "min_cap = coins['market'][coins['market'].idxmin(axis = 0)]\n",
        "df = pd.DataFrame({'capitalization': [highest_cap, min_cap]}, index=[coins['name'][coins['market'].idxmax(axis = 0)],\n",
        "                                                                     coins['name'][coins['market'].idxmin(axis = 0)]])\n",
        "plot = df.plot.pie(y='capitalization', figsize=(5, 5))"
      ]
    },
    {
      "cell_type": "markdown",
      "metadata": {
        "lang": "en",
        "id": "SynaM0Cbizjx"
      },
      "source": [
        "## 2. Visualization (1 point)"
      ]
    },
    {
      "cell_type": "markdown",
      "metadata": {
        "lang": "en",
        "id": "-PPbfwErizjx"
      },
      "source": [
        "The most interesting part of the analyst's job is to carefully look at correctly chosen and constructed charts."
      ]
    },
    {
      "cell_type": "markdown",
      "metadata": {
        "lang": "en",
        "id": "9gNiCj9Oizjx"
      },
      "source": [
        "**Implement a function to visualize the prices of the selected currency for the selected date range.**"
      ]
    },
    {
      "cell_type": "markdown",
      "metadata": {
        "lang": "en",
        "id": "RY5ikiPuizjx"
      },
      "source": [
        "The chart should show the start and end prices of sales. As well as the minimum and maximum price for that day.\n",
        "Label the graph and coordinate axes. Add a grid. Increase the image size.\n",
        "You can try using `matplotlib.finance.candlestick_ohlc` (`mpl_finance.candlestick_ohlc`), but you can do without it."
      ]
    },
    {
      "cell_type": "code",
      "execution_count": 34,
      "metadata": {
        "id": "mR_RvLetL07y",
        "scrolled": false,
        "outputId": "5c7947dd-4554-4d80-e425-dee1486523a3",
        "colab": {
          "base_uri": "https://localhost:8080/",
          "height": 132
        }
      },
      "outputs": [
        {
          "output_type": "error",
          "ename": "SyntaxError",
          "evalue": "ignored",
          "traceback": [
            "\u001b[0;36m  File \u001b[0;32m\"<ipython-input-34-540c68760438>\"\u001b[0;36m, line \u001b[0;32m2\u001b[0m\n\u001b[0;31m    # Paste your code here\u001b[0m\n\u001b[0m                          ^\u001b[0m\n\u001b[0;31mSyntaxError\u001b[0m\u001b[0;31m:\u001b[0m unexpected EOF while parsing\n"
          ]
        }
      ],
      "source": [
        " def plot_fancy_price_action(coins, symbol, start_date, end_date):\n",
        "    # Paste your code here\n",
        "    df = coins[coins['date'] >= start_date and coins['date'] <= end_date]\n",
        "    \n"
      ]
    },
    {
      "cell_type": "markdown",
      "metadata": {
        "lang": "en",
        "id": "hUwUo7c1izjy"
      },
      "source": [
        "Let's see what happened:"
      ]
    },
    {
      "cell_type": "code",
      "execution_count": null,
      "metadata": {
        "id": "VIF6IvysL070"
      },
      "outputs": [],
      "source": [
        "plot_fancy_price_action(coins=coins, symbol='VERI', start_date='2013-06-01', end_date='2019-06-30') "
      ]
    },
    {
      "cell_type": "markdown",
      "metadata": {
        "lang": "en",
        "id": "zegamTfIizjy"
      },
      "source": [
        "There is no data science in this task. It's just that an analyst should be able to build charts, or know ready-made tools."
      ]
    },
    {
      "cell_type": "markdown",
      "metadata": {
        "lang": "en",
        "id": "5GXt8Aziizjy"
      },
      "source": [
        "## 3. Pump and dump (1 point)"
      ]
    },
    {
      "cell_type": "markdown",
      "metadata": {
        "lang": "en",
        "id": "hCfN9lBIizjy"
      },
      "source": [
        "Cryptocurrency exchanges still remain a marginal place, a kind of wild west of the financial world. As a consequence, schemes thrive here regarding\n",
        "honest withdrawal of money. One of them is **pump'n'dump** (pump and dump).\n",
        "\n",
        "She looks like this. Several large players or many small ones agree to buy together an obscure coin with a low price and trading volume. This leads to an instant rise in price (pump), then inexperienced players come in the hope of making money on such growth. At this point, the organizers of the scheme will start selling everything (dump). The whole process takes from several minutes to several hours."
      ]
    },
    {
      "cell_type": "markdown",
      "metadata": {
        "lang": "en",
        "id": "DmXDw-6Zizjy"
      },
      "source": [
        "Your task is to **find the strongest pump'n'dump** of the coin in the given time period. To do this, for each day, we define the number `pnd` equal to the ratio of the maximum price of the coin on the given day to the maximum of the opening and closing prices on the same day. We need to find the day when `pnd` was maximum and the value of `pnd`."
      ]
    },
    {
      "cell_type": "code",
      "execution_count": 51,
      "metadata": {
        "id": "rzA20Gm6L072"
      },
      "outputs": [],
      "source": [
        "def find_most_severe_pump_and_dump(coins, symbol, start_date, end_date):\n",
        "    # Paste your code here\n",
        "    started = False\n",
        "    pnb = 0.0\n",
        "    datee = str()\n",
        "    for i in range(37588):\n",
        "      if coins['date'][i] == start_date:\n",
        "        started = True\n",
        "      if coins['date'][i] != start_date and started == False:\n",
        "        continue\n",
        "      if coins['symbol'][i] != symbol:\n",
        "        continue\n",
        "      if coins['high'][i]/(coins['open'][i]*coins['close'][i]) > pnb:\n",
        "        pnb = coins['high'][i]/max(coins['open'][i], coins['close'][i])\n",
        "        datee = coins['date'][i]\n",
        "      if coins['date'][i] == end_date:\n",
        "        break\n",
        "    \n",
        "    print(\"for coin: \" + symbol + \"  most severe pump and dump in \" + datee + \" and had a value of: \" + str(pnb))\n",
        "\n"
      ]
    },
    {
      "cell_type": "code",
      "execution_count": 52,
      "metadata": {
        "id": "VZjM8FJ-L073",
        "outputId": "82bdcfca-de7d-4b8f-84d5-9c2b49fd8555",
        "colab": {
          "base_uri": "https://localhost:8080/"
        }
      },
      "outputs": [
        {
          "output_type": "stream",
          "name": "stdout",
          "text": [
            "for coin: BTC  most severe pump and dump in 2017-06-01 and had a value of: 1.0168239281027294\n"
          ]
        }
      ],
      "source": [
        "find_most_severe_pump_and_dump(coins, symbol='BTC', start_date='2017-06-01', end_date='2018-06-01')"
      ]
    },
    {
      "cell_type": "markdown",
      "metadata": {
        "lang": "en",
        "id": "Rvk9ZpR5izjy"
      },
      "source": [
        "Compare these values ​​for different coins:"
      ]
    },
    {
      "cell_type": "code",
      "execution_count": 54,
      "metadata": {
        "id": "EXJgxg7HL074",
        "outputId": "b286bf74-5bc7-4b3e-975c-4e9067c24e0a",
        "colab": {
          "base_uri": "https://localhost:8080/"
        }
      },
      "outputs": [
        {
          "output_type": "stream",
          "name": "stdout",
          "text": [
            "for coin: BTC  most severe pump and dump in 2017-06-01 and had a value of: 1.0168239281027294\n",
            "for coin: LTC  most severe pump and dump in 2017-06-01 and had a value of: 1.0284722222222222\n",
            "for coin: XLM  most severe pump and dump in 2018-06-01 and had a value of: 1.008943295057919\n",
            "for coin: XVG  most severe pump and dump in 2018-06-01 and had a value of: 1.0133537989255565\n",
            "for coin: ZIL  most severe pump and dump in 2018-06-01 and had a value of: 1.0068896072923843\n",
            "for coin: ZEC  most severe pump and dump in 2017-06-01 and had a value of: 1.0492638504432945\n"
          ]
        }
      ],
      "source": [
        "find_most_severe_pump_and_dump(coins, symbol='BTC', start_date='2017-06-01', end_date='2018-06-01')\n",
        "find_most_severe_pump_and_dump(coins, symbol='LTC', start_date='2017-06-01', end_date='2018-06-01')\n",
        "find_most_severe_pump_and_dump(coins, symbol='XLM', start_date='2017-06-01', end_date='2018-06-01')\n",
        "find_most_severe_pump_and_dump(coins, symbol='XVG', start_date='2017-06-01', end_date='2018-06-01')\n",
        "find_most_severe_pump_and_dump(coins, symbol='ZIL', start_date='2017-06-01', end_date='2018-06-01')\n",
        "find_most_severe_pump_and_dump(coins, symbol='ZEC', start_date='2017-06-01', end_date='2018-06-01')"
      ]
    },
    {
      "cell_type": "markdown",
      "metadata": {
        "lang": "en",
        "id": "G32Cmduoizjz"
      },
      "source": [
        "## 4. ROI (1 point)"
      ]
    },
    {
      "cell_type": "markdown",
      "metadata": {
        "lang": "en",
        "id": "6u733Zz7izjz"
      },
      "source": [
        "You need to calculate **return on investment (ROI)** in cryptocurrencies over a given period of time.\n",
        "\n",
        "Payback is defined as the ratio of *portfolio price change* to *portfolio initial price*. The portfolio price is the total value (in USD) of all coins in the portfolio.\n",
        "\n",
        "`investments` is a dictionary where the keys are the names of the coins, the values ​​are the amount of investments in this coin (in USD)."
      ]
    },
    {
      "cell_type": "code",
      "execution_count": 67,
      "metadata": {
        "id": "RwDtgKjhL076"
      },
      "outputs": [],
      "source": [
        "def compute_roi(coins, investments, start_date, end_date):\n",
        "    # Paste your code here\n",
        "    s_num = 0\n",
        "    s_den = 0\n",
        "    for keys in investments:\n",
        "      for i in range(37588):\n",
        "        if coins['date'][i] == start_date and coins['symbol'][i] == keys:\n",
        "          s_num += coins['price'][i]\n",
        "        if coins['date'][i] == end_date and coins['symbol'][i] == keys:\n",
        "          s_num -= coins['price'][i]\n",
        "          break\n",
        "\n",
        "      s_den += investments[keys]\n",
        "    print(\"ROI equals to: \" + str(s_num/s_den))"
      ]
    },
    {
      "cell_type": "code",
      "execution_count": 68,
      "metadata": {
        "id": "oWW8XBrIL076",
        "outputId": "19e81bb1-bbd4-4fa8-946a-d7c27da55696",
        "colab": {
          "base_uri": "https://localhost:8080/"
        }
      },
      "outputs": [
        {
          "output_type": "stream",
          "name": "stdout",
          "text": [
            "ROI equals to: -0.018939999999999978\n"
          ]
        }
      ],
      "source": [
        "compute_roi(coins, investments={'BTC': 1000, 'LTC': 500}, start_date='2018-04-04', end_date='2018-06-01')"
      ]
    },
    {
      "cell_type": "code",
      "execution_count": 69,
      "metadata": {
        "id": "UQDAuP_QL077",
        "outputId": "ad4e08bb-c212-41be-8387-d9bf28fb7db3",
        "colab": {
          "base_uri": "https://localhost:8080/"
        }
      },
      "outputs": [
        {
          "output_type": "stream",
          "name": "stdout",
          "text": [
            "ROI equals to: -5.0766599999999995\n"
          ]
        }
      ],
      "source": [
        "compute_roi(coins, investments={'BTC': 1000, 'LTC': 500}, start_date='2013-05-28', end_date='2018-06-06')"
      ]
    },
    {
      "cell_type": "markdown",
      "metadata": {
        "lang": "en",
        "id": "QcS9HD94izjz"
      },
      "source": [
        "## 5. Technical analysis (1 point)"
      ]
    },
    {
      "cell_type": "markdown",
      "metadata": {
        "lang": "en",
        "id": "KeDSCA0Jizjz"
      },
      "source": [
        "**Technical analysis** is a way to predict the behavior of a chart based on some auxiliary values ​​built on the original chart. One of the simplest methods of technical analysis is **[Bollinger Bands](https://en.wikipedia.org/wiki/Bollinger_Bands)**. Someone believes that the graph touching the border should be reflected from it.\n",
        "\n",
        "Borders are considered very simply:\n",
        "\n",
        "$$(MA \\pm K\\sigma),$$\n",
        "\n",
        "where `MA` is the `N` day moving average and $\\sigma$ is the `N` day moving standard deviation."
      ]
    },
    {
      "cell_type": "markdown",
      "metadata": {
        "lang": "en",
        "id": "eiCoZrcmizjz"
      },
      "source": [
        "Draw **price chart**, **moving average** and **Bollinger bands** with parameters `N (window) = 21`, `K (width) = 2`.\n",
        "\n",
        "The `rolling` function will help you here to calculate the mean and standard deviation over a sliding window.\n",
        "\n",
        "Don't forget to label the graph and axes, draw the legend and choose the best location for it."
      ]
    },
    {
      "cell_type": "code",
      "execution_count": null,
      "metadata": {
        "id": "zf4zMAGkL079"
      },
      "outputs": [],
      "source": [
        "def plot_bollinger_bands(coins, symbol, window, width):\n",
        "    # Paste your code here"
      ]
    },
    {
      "cell_type": "code",
      "execution_count": null,
      "metadata": {
        "id": "dWBsySLJL07-"
      },
      "outputs": [],
      "source": [
        "plot_bollinger_bands(coins=coins, symbol='EOS', window=21, width=2)  # тут должен появиться график"
      ]
    },
    {
      "cell_type": "markdown",
      "metadata": {
        "lang": "en",
        "id": "nuE-bzNeizj0"
      },
      "source": [
        "**Conclude whether the Bollinger Rule was followed:**"
      ]
    },
    {
      "cell_type": "markdown",
      "metadata": {
        "lang": "en",
        "id": "D6vpp20fizj0"
      },
      "source": [
        "**Your answer is here**"
      ]
    },
    {
      "cell_type": "markdown",
      "metadata": {
        "lang": "en",
        "id": "1-1suLIxizj0"
      },
      "source": [
        "## 6. Capitalization as an indicator (1 point)"
      ]
    },
    {
      "cell_type": "markdown",
      "metadata": {
        "lang": "en",
        "id": "9UQ8SP-Fizj0"
      },
      "source": [
        "Many people who trade cryptocurrencies like to look at [capitalization](https://academy.binance.com/en/articles/crypto-market-capitalization-explained). Let's understand why."
      ]
    },
    {
      "cell_type": "markdown",
      "metadata": {
        "lang": "en",
        "id": "sobEMQvgizj0"
      },
      "source": [
        "**Draw two more graphs:**\n",
        "1. total capitalization of bitcoin (BTC), ether (ETH), eos (EOS), bitcoin cash (BCH), stellar (XLM) and litecoin (LTC)\n",
        "2. shares of capitalizations of these coins from the total market capitalization.\n",
        "\n",
        "In this case, use the data starting from 2017-07-01."
      ]
    },
    {
      "cell_type": "code",
      "execution_count": null,
      "metadata": {
        "id": "xHMMSJg6L08B",
        "scrolled": false
      },
      "outputs": [],
      "source": [
        "def plot_coins_capitalizations(coins, symbols, start_date):\n",
        "    # Paste your code here"
      ]
    },
    {
      "cell_type": "code",
      "execution_count": null,
      "metadata": {
        "id": "jOD_z5hYL08C"
      },
      "outputs": [],
      "source": [
        "plot_coins_capitalizations(\n",
        "    coins=coins,\n",
        "    symbols=('BTC', 'ETH', 'EOS', 'BCH', 'XLM', 'LTC'),\n",
        "    start_date='2017-07-01'\n",
        ")"
      ]
    },
    {
      "cell_type": "markdown",
      "metadata": {
        "lang": "en",
        "id": "73LsC0UIizj1"
      },
      "source": [
        "Analyze the dependence of the share of capitalization of altcoins (other coins, except for bitcoin) on the share of capitalization of bitcoin. What do you think is the reason for this dependence?"
      ]
    },
    {
      "cell_type": "markdown",
      "metadata": {
        "lang": "en",
        "id": "XpT2OO3zizj1"
      },
      "source": [
        "**Your answer is here**"
      ]
    },
    {
      "cell_type": "markdown",
      "metadata": {
        "lang": "en",
        "id": "Zn9MueaCizj1"
      },
      "source": [
        "## 7. Coin correlations (1 point)"
      ]
    },
    {
      "cell_type": "markdown",
      "metadata": {
        "lang": "en",
        "id": "G2imgG1Qizj1"
      },
      "source": [
        "Now we need to take a closer look at the correlations of the average shares of coin capitalizations. In this case, we will look at the average smoothed over the last `window` days until the day `date` with a smoothing coefficient `alpha` for the set of coins `symbols`.\n",
        "\n",
        "Implement a function that will return a square `DataFrame` with the number of rows and columns equal to the number of coins in question and with correlation values:"
      ]
    },
    {
      "cell_type": "code",
      "execution_count": null,
      "metadata": {
        "id": "lxZQQuBxL08E"
      },
      "outputs": [],
      "source": [
        "def calc_coins_correlations(coins, date, symbols, window, alpha):\n",
        "    # Paste your code here"
      ]
    },
    {
      "cell_type": "code",
      "execution_count": null,
      "metadata": {
        "id": "L8iBTKhuL08F"
      },
      "outputs": [],
      "source": [
        "correlations = calc_coins_correlations(coins, date=\"2018-06-06\",\n",
        "                                       symbols=['BTC', 'ETH', 'EOS', 'BCH', 'XLM', 'LTC', 'ADA'],\n",
        "                                       window=21, alpha=0.1)\n",
        "# Теперь посмотрим на эти корреляции следующим образом:\n",
        "correlations.style.background_gradient(cmap='coolwarm').set_precision(2)"
      ]
    },
    {
      "cell_type": "markdown",
      "metadata": {
        "lang": "en",
        "id": "w3RvuuMGizj1"
      },
      "source": [
        "It is quite interesting to take another look at 2017-12-27:"
      ]
    },
    {
      "cell_type": "code",
      "execution_count": null,
      "metadata": {
        "id": "IJrYVdA0L08G"
      },
      "outputs": [],
      "source": [
        "correlations = calc_coins_correlations(coins, date=\"2017-12-27\",\n",
        "                                       symbols=['BTC', 'ETH', 'EOS', 'BCH', 'XLM', 'LTC', 'ADA'],\n",
        "                                       window=21, alpha=0.1)\n",
        "# Теперь посмотрим на эти корреляции следующим образом:\n",
        "correlations.style.background_gradient(cmap='coolwarm').set_precision(2)"
      ]
    },
    {
      "cell_type": "markdown",
      "metadata": {
        "lang": "en",
        "id": "YpnAph7Vizj2"
      },
      "source": [
        "## 8. Analysis of one strategy (2 points)"
      ]
    },
    {
      "cell_type": "markdown",
      "metadata": {
        "lang": "en",
        "id": "WQmUXkIGizj2"
      },
      "source": [
        "Let's take a dreamy example. Let's see how much profit a textbook trading strategy based on moving averages could bring us.\n",
        "\n",
        "The strategy looks like this: we build two moving averages for the price chart. With a small window (leading moving average) and with a large window (lagging moving average). **We buy when the leading average becomes larger than the lagging one and sell otherwise.**\n",
        "\n",
        "Let's look at an example:"
      ]
    },
    {
      "cell_type": "code",
      "execution_count": null,
      "metadata": {
        "id": "gEPEQGSTL08H"
      },
      "outputs": [],
      "source": [
        "def plot_moving_averages(coins, symbol, leading_window, lagging_window, start_date, end_date):\n",
        "    coin = coins[coins['symbol'] == symbol][start_date:end_date]\n",
        "    price = coin['price']\n",
        "    leading_mean = price.rolling(window=leading_window).mean()\n",
        "    lagging_mean = price.rolling(window=lagging_window).mean()\n",
        "\n",
        "    fig = plt.figure(figsize=(16, 9))\n",
        "    ax = fig.add_subplot(111)\n",
        "    \n",
        "    ax.set_title('Price action for {}'.format(symbol))\n",
        "    ax.plot(leading_mean, color='green', label='MA{}'.format(leading_window))\n",
        "    ax.plot(lagging_mean, color='red', label='MA{}'.format(lagging_window))\n",
        "    ax.plot(price, color='blue', label='price')\n",
        "    ax.set_xlabel('Date')\n",
        "    ax.set_ylabel('Price')\n",
        "    ax.legend(loc='best')\n",
        "    ax.grid(True)\n",
        "    plt.show() \n",
        "\n",
        "plot_moving_averages(\n",
        "    coins=coins, \n",
        "    symbol='BTC', \n",
        "    leading_window=21, \n",
        "    lagging_window=50, \n",
        "    start_date='2017-05-01',\n",
        "    end_date='2018-08-01')"
      ]
    },
    {
      "cell_type": "markdown",
      "metadata": {
        "lang": "en",
        "id": "akUijzq3izj2"
      },
      "source": [
        "It can be seen that the moving average with a larger window reacts more slowly to price changes. It is on this idea that the trading strategy is based.\n",
        "\n",
        "\n",
        "**Implement a function** that draws two graphs. The right side will display the price and moving averages. On the left - how many times the size of investments will change when using our strategy and with ordinary investment (we bought and hold, we look at how the price of our purchased currencies grows)."
      ]
    },
    {
      "cell_type": "markdown",
      "metadata": {
        "lang": "en",
        "id": "sYbCqbc2izj2"
      },
      "source": [
        ">**Notes:**\n",
        ">- Let's use only closing prices. In this case, to find out the prices for yesterday, you should use the `shift (1)` method for `Series`.\n",
        ">- The ratio of closing prices for today and yesterday is **multiplier** for today. At the same time, let's build accumulation graphs for multipliers. Those. if we look at 3 days and on the first day multiplier = 1.5, on the second - 0.5 and on the third - 2, then the graph will look like this: (1.5, 1.5 *0.5, 1.5* 0.5 * 2).\n",
        ">- When using our new strategy, we will either buy if the leading average becomes larger than the lagging one by some `threshold` (in this case, it is better to divide the difference by the price first), or leave everything as it is. At the same time, of course, when making decisions for today, you need to look only at statistics from the past."
      ]
    },
    {
      "cell_type": "code",
      "execution_count": null,
      "metadata": {
        "id": "gp86AGWyL08I",
        "scrolled": false
      },
      "outputs": [],
      "source": [
        "def plot_moving_averages_strategy(\n",
        "    coins, symbol, lead_window, lag_window, threshold, start_date, end_date\n",
        "):\n",
        "    # Paste your code here"
      ]
    },
    {
      "cell_type": "code",
      "execution_count": null,
      "metadata": {
        "id": "m2CDc_kkL08J"
      },
      "outputs": [],
      "source": [
        "# Теперь на основе реализованной функции сделаем интерактивные графики и поизучаем, что получилось:\n",
        "symbol_selector = ipywidgets.Dropdown(\n",
        "    options=('BTC', 'ETH', 'EOS', 'BCH', 'XLM', 'LTC', 'ADA'),\n",
        "    index=0,\n",
        "    value='BTC',\n",
        "    layout={'width': '700px'},\n",
        "    continuous_update=False\n",
        ")\n",
        "\n",
        "lead_window_slider = ipywidgets.IntSlider(\n",
        "    value=21, \n",
        "    min=1, \n",
        "    max=200, \n",
        "    step=1,\n",
        "    layout={'width': '700px'},\n",
        "    continuous_update=False)\n",
        "\n",
        "lag_window_slider = ipywidgets.IntSlider(\n",
        "    value=50,\n",
        "    min=1, \n",
        "    max=200, \n",
        "    layout={'width': '700px'},\n",
        "    step=1, continuous_update=False)\n",
        "\n",
        "threshold_slider = ipywidgets.FloatSlider(\n",
        "    min=0, \n",
        "    max=0.20, \n",
        "    step=0.001, \n",
        "    value=0.025,\n",
        "    layout={'width': '700px'},\n",
        "    continuous_update=False)\n",
        "\n",
        "start_date_slider = ipywidgets.SelectionSlider(\n",
        "    options=pd.date_range('2013-04-28', '2018-06-06', freq='D'),\n",
        "    index=0,\n",
        "    value=pd.Timestamp('2017-05-01'),\n",
        "    layout={'width': '700px'},\n",
        "    continuous_update=False\n",
        ")\n",
        "\n",
        "end_date_slider = ipywidgets.SelectionSlider(\n",
        "    options=pd.date_range('2013-04-28', '2018-06-06', freq='D'),\n",
        "    index=0,\n",
        "    value=pd.Timestamp('2018-01-01'),\n",
        "    layout={'width': '700px'},\n",
        "    continuous_update=False\n",
        ")\n",
        "\n",
        "ipywidgets.interact(\n",
        "    plot_moving_averages_strategy,\n",
        "    coins=ipywidgets.fixed(coins),\n",
        "    symbol=symbol_selector,\n",
        "    lead_window=lead_window_slider,\n",
        "    lag_window=lag_window_slider,\n",
        "    threshold=threshold_slider,\n",
        "    start_date=start_date_slider,\n",
        "    end_date=end_date_slider\n",
        ")"
      ]
    },
    {
      "cell_type": "markdown",
      "metadata": {
        "lang": "en",
        "id": "vso32jI8izj3"
      },
      "source": [
        "Try different parameter values ​​for different coins and draw conclusions about the applicability of such a model:"
      ]
    },
    {
      "cell_type": "markdown",
      "metadata": {
        "lang": "en",
        "id": "YL6CJ2Weizj3"
      },
      "source": [
        "**Your answer is here**"
      ]
    },
    {
      "cell_type": "markdown",
      "metadata": {
        "lang": "en",
        "id": "vAfjHfqgizj3"
      },
      "source": [
        "## 9. Disclaimer"
      ]
    },
    {
      "cell_type": "markdown",
      "metadata": {
        "lang": "en",
        "id": "kSdt7zxUizj3"
      },
      "source": [
        "All examples of the strategies analyzed here are toys and are not suitable for real trading on the stock exchange. Without serious preparation, you will be eaten there with giblets."
      ]
    }
  ],
  "metadata": {
    "colab": {
      "provenance": [],
      "include_colab_link": true
    },
    "kernelspec": {
      "display_name": "Python 3",
      "language": "python",
      "name": "python3"
    },
    "language_info": {
      "codemirror_mode": {
        "name": "ipython",
        "version": 3
      },
      "file_extension": ".py",
      "mimetype": "text/x-python",
      "name": "python",
      "nbconvert_exporter": "python",
      "pygments_lexer": "ipython3",
      "version": "3.8.10"
    },
    "nbTranslate": {
      "displayLangs": [],
      "hotkey": "alt-t",
      "langInMainMenu": true,
      "sourceLang": "ru",
      "targetLang": "en",
      "useGoogleTranslate": true
    }
  },
  "nbformat": 4,
  "nbformat_minor": 0
}